{
 "cells": [
  {
   "cell_type": "markdown",
   "metadata": {},
   "source": [
    "As pessoas geralmente dizer \"escreva códigos funcionais\", isso significa, no contexto de funções que:\n",
    "\n",
    "1. **Atomicidade**: Uma função deve executar apenas uma atividade\n",
    "\n",
    "2. **Idempotência**: Se você rodar o código multiplas vezes com a mesma entrada, a saída também deve ser a mesma.\n",
    "    a. Caso se armazene a saída em um local externo, a saída não pode ser armazenada de forma estar duplicada\n",
    "\n",
    "3. **Sem efeitos colaterais**: Uma função não deve afetar nenhum dado externo (variável ou outro) além de sua saída.\n"
   ]
  },
  {
   "cell_type": "markdown",
   "metadata": {},
   "source": [
    "Observa-se o exemplo abaixo de uma script ETL."
   ]
  },
  {
   "cell_type": "code",
   "execution_count": null,
   "metadata": {},
   "outputs": [],
   "source": [
    "import praw\n",
    "import os\n",
    "import sqlite3\n",
    "import logging\n",
    "from dataclasses import asdict"
   ]
  },
  {
   "cell_type": "code",
   "execution_count": 2,
   "metadata": {},
   "outputs": [],
   "source": [
    "REDDIT_CLIENT_ID=os.environ[\"REDDIT_CLIENT_ID\"]\n",
    "REDDIT_CLIENT_SECRET=os.environ[\"REDDIT_CLIENT_SECRET\"]\n",
    "REDDIT_USER_AGENT=os.environ[\"REDDIT_USER_AGENT\"]"
   ]
  },
  {
   "cell_type": "code",
   "execution_count": 3,
   "metadata": {},
   "outputs": [],
   "source": [
    "def extract():\n",
    "    client = praw.Reddit(\n",
    "        client_id=REDDIT_CLIENT_ID,\n",
    "        client_secrect=REDDIT_CLIENT_SECRET,\n",
    "        user_agent=REDDIT_USER_AGENT,\n",
    "    )\n",
    "\n",
    "    subreddit = client.subreddit('dataengineering')\n",
    "    top_subreddit = subreddit.hot(limit=100)\n",
    "    data = []\n",
    "\n",
    "    for submission in top_subreddit:\n",
    "        data.append(\n",
    "            {\n",
    "                'title': submission.title,\n",
    "                'score': submission.score,\n",
    "                'id': submission.id,\n",
    "                'url': submission.url, \n",
    "                'comments': submission.num_comments,\n",
    "                'created': submission.created,\n",
    "                'text': submission.selftext,\n",
    "            }\n",
    "        )\n",
    "    return data"
   ]
  },
  {
   "cell_type": "code",
   "execution_count": 4,
   "metadata": {},
   "outputs": [],
   "source": [
    "def transform(data):\n",
    "    \"\"\"\n",
    "    Function to only keep outliers.\n",
    "    Outliers are based on num of comments > 2 standard deviations from mean\n",
    "    \"\"\"\n",
    "    num_comments = [post.get('comments') for post in data]\n",
    "    mean_num_comments = sum(num_comments) / len(num_comments)\n",
    "\n",
    "    std_num_comments = (sum([(x - mean_num_comments) ** 2 for x in num_comments]) / len(num_comments)) ** 0.5\n",
    "\n",
    "    return [\n",
    "        post\n",
    "        for post in data\n",
    "        if post.get('comments') > mean_num_comments + 2 * std_num_comments\n",
    "    ]"
   ]
  },
  {
   "cell_type": "code",
   "execution_count": 6,
   "metadata": {},
   "outputs": [],
   "source": [
    "def load(data):\n",
    "    #Create a database connection\n",
    "    conn = sqlite3.connect('./data/socialetl.db')\n",
    "    cur = conn.cursor()\n",
    "    try:\n",
    "        #Insert data into database\n",
    "        for post in data:\n",
    "            cur.execute(\n",
    "                \"\"\"\n",
    "                    INSERT INTO social_posts (\n",
    "                        id, source, social_data\n",
    "                    ) VALUES (\n",
    "                        :id, :source, :social_data\n",
    "                    )\n",
    "                    \"\"\",\n",
    "                {\n",
    "                    'id': post.get('id'),\n",
    "                    'score': post.get('score'),\n",
    "                    'social_data': str(\n",
    "                        {\n",
    "                            'title': post.get('title'),\n",
    "                            'url': post.get('url'),\n",
    "                            'comments': post.get('num_comments'),\n",
    "                            'created': post.get('created'),\n",
    "                            'text': post.get('selftext')\n",
    "                        }\n",
    "                    )\n",
    "                }\n",
    "            )\n",
    "    finally:\n",
    "        conn.commit()\n",
    "        conn.close()"
   ]
  },
  {
   "cell_type": "markdown",
   "metadata": {},
   "source": [
    "Ao se examinar a função 'Load' acima, percebe-se que:\n",
    "\n",
    "1. **Atomicidade**: Não possui essa característica pois realiza duas atividades: gerencia a conexão com a banco de dados e carrega os dados na banco de dados.\n",
    "    a. Uma alternativa para se contornar essa situação é a técnica de Injeção de Dependência para aceitar a conexão com a banco de dados como entrada da função 'Load'\n",
    "\n",
    "2. **Idempotência**: Não possui essa característica pois insere todoso os dados na tabela *social_posts*. Dessa forma, caso a entrada possua duplicatas ou a função seja executada, acidentalmente, duas vezes, valores duplicados serão inseridos na tabela.\n",
    "    a. É possível prever isso utilizando um UPSERT, que irá atualizar ou inserir uma gravação na banco de dados dependendo se já se está presente ou não.\n",
    "\n",
    "3. **Sem efeitos colaterais**: A função 'Load' não possui efeitos colaterais. \n",
    "    a. Caso a conexão com o banco de dados seja aceito como um parâmetro de entrada da função (Injeção de Dependência), nós não devemos fechat/encerrar essa conexão, visto que isso irá afetar o estado de uma variável externa à função 'Load'.\n",
    "\n",
    "Agora vamos refatorar a função para corrigir alguns desses problemas"
   ]
  },
  {
   "cell_type": "code",
   "execution_count": null,
   "metadata": {},
   "outputs": [],
   "source": [
    "def load(social_data, db_conn) -> None:\n",
    "    logging.info('Loading twitter data.')\n",
    "    if db_conn is None:\n",
    "        raise ValueError(\n",
    "            'db_cursos is None. Please pass a valid DatabaseConnection'\n",
    "            'object.'\n",
    "        )\n",
    "    cur = db_conn.cursor()\n",
    "    try:\n",
    "        for post in social_data:\n",
    "            cur.execute(\n",
    "                \"\"\"\n",
    "                INSERT OR REPLACE INTO social_posts (\n",
    "                    id, source, social_data\n",
    "                ) VALUES (\n",
    "                    :id, :source, :social_data\n",
    "                )\n",
    "                \"\"\",\n",
    "                {\n",
    "                    'id': post.id,\n",
    "                    'source': post.source,\n",
    "                    'social_data': str(asdict(post.social_data)),\n",
    "                },\n",
    "            )\n",
    "    finally:\n",
    "        cur.close()\n",
    "        db_conn.commit()"
   ]
  },
  {
   "cell_type": "markdown",
   "metadata": {},
   "source": [
    "*Observação*: O cursor deveria ser criado fora da função 'Load', mas não vamos focar nisso agora."
   ]
  },
  {
   "cell_type": "code",
   "execution_count": 7,
   "metadata": {},
   "outputs": [],
   "source": [
    "def main():\n",
    "    #Pull data from reddit\n",
    "    data = extract()\n",
    "    #Transform reddit data\n",
    "    transformed_data = transform(data)\n",
    "    #Load data into database\n",
    "    load(transformed_data)"
   ]
  }
 ],
 "metadata": {
  "kernelspec": {
   "display_name": "venv",
   "language": "python",
   "name": "python3"
  },
  "language_info": {
   "codemirror_mode": {
    "name": "ipython",
    "version": 3
   },
   "file_extension": ".py",
   "mimetype": "text/x-python",
   "name": "python",
   "nbconvert_exporter": "python",
   "pygments_lexer": "ipython3",
   "version": "3.12.6"
  }
 },
 "nbformat": 4,
 "nbformat_minor": 2
}

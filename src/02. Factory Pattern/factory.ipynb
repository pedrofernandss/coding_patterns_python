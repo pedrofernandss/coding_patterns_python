{
 "cells": [
  {
   "cell_type": "code",
   "execution_count": null,
   "metadata": {},
   "outputs": [],
   "source": [
    "import praw\n",
    "import os\n",
    "from dataclasses import asdict\n",
    "from abc import ABC, abstractmethod"
   ]
  },
  {
   "cell_type": "code",
   "execution_count": null,
   "metadata": {},
   "outputs": [],
   "source": [
    "#Abstract class with abstract methods\n",
    "class SocialETL(ABC):\n",
    "    @abstractmethod\n",
    "    def extract(self, id, num_records, client):\n",
    "        pass\n",
    "\n",
    "    @abstractmethod\n",
    "    def transform(sel, social_data):\n",
    "        pass\n",
    "\n",
    "    @abstractmethod\n",
    "    def load(self, social_data, db_conn):\n",
    "        pass\n",
    "\n",
    "    @abstractmethod\n",
    "    def run(self, db_conn, client, id, num_records):\n",
    "        pass"
   ]
  },
  {
   "cell_type": "code",
   "execution_count": null,
   "metadata": {},
   "outputs": [],
   "source": [
    "#Concrete implementation of the abstract Class\n",
    "class RedditETL(SocialETL):\n",
    "    def extract(self, id, num_records, client):\n",
    "        #Code to extract reddit data\n",
    "        pass\n",
    "\n",
    "    def transform(self, social_data):\n",
    "        #Code to transform reddit data\n",
    "        pass\n",
    "\n",
    "    def load(self, social_data, db_conn):\n",
    "        #Code to load reddit data into final table\n",
    "        pass\n",
    "\n",
    "    def run(self, db_conn, client, id, num_records):\n",
    "        #Code to run extract, transform and load\n",
    "        pass"
   ]
  },
  {
   "cell_type": "code",
   "execution_count": null,
   "metadata": {},
   "outputs": [],
   "source": [
    "#Concrete implementation of the abstract class\n",
    "class TwitterETL(SocialETL):\n",
    "    def extract(self, id, num_records, client):\n",
    "        #Code to extract Twitter data\n",
    "        pass\n",
    "    \n",
    "    def transform(self, social_data):\n",
    "        #Code to transform Twitter data\n",
    "        pass\n",
    "    \n",
    "    def load(self, social_data, db_conn):\n",
    "        #Code to load Twitter data into the final table\n",
    "        pass\n",
    "\n",
    "    def run(self, db_conn, client, id, num_records):\n",
    "        #Code to run extract, transform and load\n",
    "        pass\n"
   ]
  },
  {
   "cell_type": "code",
   "execution_count": null,
   "metadata": {},
   "outputs": [],
   "source": [
    "#This \"factor\" will accept an input and give you the appropriate object that you can use to perform ETL\n",
    "def etl_factory(source):\n",
    "    factory = {\n",
    "        'Reddit': (\n",
    "            praw.Reddit(\n",
    "                CLIENT_ID=os.environ[\"REDDIT_CLIENT_ID\"],\n",
    "                CLIENT_SECRET=os.environ[\"REDDIT_CLIENT_SECRET\"],\n",
    "                USER_AGENT=os.environ[\"REDDIT_USER_AGENT\"],\n",
    "            ),\n",
    "            RedditETL(),\n",
    "        ),\n",
    "        'Twitter': (\n",
    "            tweepy.Client(bearer_token=os.environ['BEARER_TOKEN']),\n",
    "            TwitterETL(),\n",
    "        )   \n",
    "    }\n",
    "\n",
    "    if source in factory:\n",
    "        return factory[source]\n",
    "    else:\n",
    "        raise ValueError(f\"source {source} is not supported. Please pass a valid source\")"
   ]
  }
 ],
 "metadata": {
  "kernelspec": {
   "display_name": "venv",
   "language": "python",
   "name": "python3"
  },
  "language_info": {
   "name": "python",
   "version": "3.12.6"
  }
 },
 "nbformat": 4,
 "nbformat_minor": 2
}
